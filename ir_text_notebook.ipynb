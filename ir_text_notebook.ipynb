{
 "cells": [
  {
   "cell_type": "code",
   "execution_count": 1,
   "metadata": {},
   "outputs": [],
   "source": [
    "import ir_text"
   ]
  },
  {
   "cell_type": "code",
   "execution_count": 2,
   "metadata": {},
   "outputs": [
    {
     "name": "stdout",
     "output_type": "stream",
     "text": [
      "Available datasets : ['cran', 'time', 'cisi', 'lisa', 'cacm', 'med']\n",
      "Current dataset : cran\n"
     ]
    }
   ],
   "source": [
    "from os import listdir\n",
    "from os.path import join\n",
    "\n",
    "path = join('data', 'datasets')\n",
    "datasets = list(dict.fromkeys([file.split('_')[0] for file in listdir(path)]))\n",
    "\n",
    "dataset = datasets[0]\n",
    "print('Available datasets :', datasets)\n",
    "print('Current dataset :', dataset)\n",
    "\n",
    "data_path = join(path, dataset + '_dataset.json')\n",
    "queries_path = join(path, dataset + '_queries.json')\n",
    "groundtruth_path = join(path, dataset + '_groundtruth.json')"
   ]
  },
  {
   "cell_type": "code",
   "execution_count": 3,
   "metadata": {},
   "outputs": [
    {
     "name": "stdout",
     "output_type": "stream",
     "text": [
      "Data length : 1398\n",
      "Queries length : 225\n",
      "Ground truth length : 225\n"
     ]
    }
   ],
   "source": [
    "import json\n",
    "\n",
    "with open(data_path, 'r') as json_data:\n",
    "    data = json.load(json_data)\n",
    "print('Data length :', len(data['dataset']))\n",
    "\n",
    "with open(queries_path, 'r') as json_queries:\n",
    "    queries = json.load(json_queries)\n",
    "print('Queries length :', len(queries['queries']))\n",
    "\n",
    "with open(groundtruth_path, 'r') as json_groundtruth:\n",
    "    groundtruth = json.load(json_groundtruth)\n",
    "print('Ground truth length :', len(groundtruth['groundtruth']))"
   ]
  },
  {
   "cell_type": "markdown",
   "metadata": {},
   "source": [
    "## Linear Index\n",
    "\n",
    "### Construct"
   ]
  },
  {
   "cell_type": "code",
   "execution_count": 4,
   "metadata": {},
   "outputs": [],
   "source": [
    "linear_index = ir_text.LinearIndex(data['dataset'], language = 'english')\n",
    "linear_index.construct()"
   ]
  },
  {
   "cell_type": "markdown",
   "metadata": {},
   "source": [
    "### Search - Dice coefficient"
   ]
  },
  {
   "cell_type": "code",
   "execution_count": 5,
   "metadata": {},
   "outputs": [
    {
     "name": "stdout",
     "output_type": "stream",
     "text": [
      "Searched for 225 queries in 7.493617057800293 seconds\n",
      "Average speed : 0.033304964701334636 query/s\n"
     ]
    }
   ],
   "source": [
    "from time import time\n",
    "\n",
    "results_linear = {'groundtruth' : []}\n",
    "\n",
    "start = time()\n",
    "for query in queries['queries'] : \n",
    "    results_linear['groundtruth'].append({'relevant' : linear_index.search(query), 'id' : query['id']})\n",
    "stop = time()\n",
    "print('Searched for', len(results_linear['groundtruth']), 'queries in', stop - start, 'seconds')\n",
    "print('Average speed :', (stop - start) / len(results_linear['groundtruth']), 'query/s')"
   ]
  },
  {
   "cell_type": "markdown",
   "metadata": {},
   "source": [
    "## Inverted Index\n",
    "\n",
    "### Construct"
   ]
  },
  {
   "cell_type": "code",
   "execution_count": 4,
   "metadata": {},
   "outputs": [],
   "source": [
    "inverted_index = ir_text.InvertedIndex(data['dataset'], language = 'english')\n",
    "inverted_index.construct()"
   ]
  },
  {
   "cell_type": "markdown",
   "metadata": {},
   "source": [
    "### Search - Dice coefficient"
   ]
  },
  {
   "cell_type": "code",
   "execution_count": 5,
   "metadata": {},
   "outputs": [
    {
     "name": "stdout",
     "output_type": "stream",
     "text": [
      "Searched for 225 queries in 7.493617057800293 seconds\n",
      "Average speed : 0.033304964701334636 query/s\n"
     ]
    }
   ],
   "source": [
    "from time import time\n",
    "\n",
    "results_inverted_dice = {'groundtruth' : []}\n",
    "\n",
    "start = time()\n",
    "for query in queries['queries'] : \n",
    "    results_inverted_dice['groundtruth'].append({'relevant' : inverted_index.search(query, ir_text.Measures.DICE), 'id' : query['id']})\n",
    "stop = time()\n",
    "print('Searched for', len(results_inverted_dice['groundtruth']), 'queries in', stop - start, 'seconds')\n",
    "print('Average speed :', (stop - start) / len(results_inverted_dice['groundtruth']), 'query/s')"
   ]
  },
  {
   "cell_type": "markdown",
   "metadata": {},
   "source": [
    "### Search - Term Frequency"
   ]
  },
  {
   "cell_type": "code",
   "execution_count": 5,
   "metadata": {},
   "outputs": [
    {
     "name": "stdout",
     "output_type": "stream",
     "text": [
      "Searched for 225 queries in 7.493617057800293 seconds\n",
      "Average speed : 0.033304964701334636 query/s\n"
     ]
    }
   ],
   "source": [
    "from time import time\n",
    "\n",
    "results_inverted_tf = {'groundtruth' : []}\n",
    "\n",
    "start = time()\n",
    "for query in queries['queries'] : \n",
    "    results_inverted_tf['groundtruth'].append({'relevant' : inverted_index.search(query, ir_text.Measures.TF), 'id' : query['id']})\n",
    "stop = time()\n",
    "print('Searched for', len(results_inverted_tf['groundtruth']), 'queries in', stop - start, 'seconds')\n",
    "print('Average speed :', (stop - start) / len(results_inverted_tf['groundtruth']), 'query/s')"
   ]
  },
  {
   "cell_type": "markdown",
   "metadata": {},
   "source": [
    "\n",
    "### Construct - Inverse Document Frequency"
   ]
  },
  {
   "cell_type": "code",
   "execution_count": 4,
   "metadata": {},
   "outputs": [],
   "source": [
    "inverted_index_idf = ir_text.InvertedIndex(data['dataset'], language = 'english')\n",
    "inverted_index_idf.construct()"
   ]
  },
  {
   "cell_type": "markdown",
   "metadata": {},
   "source": [
    "### Search - TFIDF"
   ]
  },
  {
   "cell_type": "code",
   "execution_count": 5,
   "metadata": {},
   "outputs": [
    {
     "name": "stdout",
     "output_type": "stream",
     "text": [
      "Searched for 225 queries in 7.493617057800293 seconds\n",
      "Average speed : 0.033304964701334636 query/s\n"
     ]
    }
   ],
   "source": [
    "from time import time\n",
    "\n",
    "results_inverted_tfidf = {'groundtruth' : []}\n",
    "\n",
    "start = time()\n",
    "for query in queries['queries'] : \n",
    "    results_inverted_tfidf['groundtruth'].append({'relevant' : inverted_index_idf.search(query, ir_text.Measures.TF), 'id' : query['id']})\n",
    "stop = time()\n",
    "print('Searched for', len(results_inverted_tfidf['groundtruth']), 'queries in', stop - start, 'seconds')\n",
    "print('Average speed :', (stop - start) / len(results_inverted_tfidf['groundtruth']), 'query/s')"
   ]
  },
  {
   "cell_type": "markdown",
   "metadata": {},
   "source": [
    "## Evaluation\n",
    "\n",
    "### Linear Index\n",
    "Variable : ```results_linear```\n",
    "\n",
    "### Inverted Index\n",
    "Variables : ```results_inverted_dice```, ```results_inverted_tf``` and ```results_inverted_tfidf```"
   ]
  },
  {
   "cell_type": "code",
   "execution_count": null,
   "metadata": {},
   "outputs": [],
   "source": []
  }
 ],
 "metadata": {
  "kernelspec": {
   "display_name": "Python 3",
   "language": "python",
   "name": "python3"
  },
  "language_info": {
   "codemirror_mode": {
    "name": "ipython",
    "version": 3
   },
   "file_extension": ".py",
   "mimetype": "text/x-python",
   "name": "python",
   "nbconvert_exporter": "python",
   "pygments_lexer": "ipython3",
   "version": "3.7.5"
  }
 },
 "nbformat": 4,
 "nbformat_minor": 2
}
