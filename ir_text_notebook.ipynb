{
 "cells": [
  {
   "cell_type": "code",
   "execution_count": 1,
   "metadata": {},
   "outputs": [],
   "source": [
    "import ir_text\n",
    "from time import time"
   ]
  },
  {
   "cell_type": "code",
   "execution_count": 2,
   "metadata": {},
   "outputs": [
    {
     "name": "stdout",
     "output_type": "stream",
     "text": [
      "Available datasets : ['cran', 'time', 'cisi', 'lisa', 'cacm', 'med']\n",
      "Current dataset : med\n"
     ]
    }
   ],
   "source": [
    "from os import listdir\n",
    "from os.path import join\n",
    "\n",
    "path = join('data', 'datasets')\n",
    "datasets = list(dict.fromkeys([file.split('_')[0] for file in listdir(path)]))\n",
    "\n",
    "dataset = datasets[5]\n",
    "print('Available datasets :', datasets)\n",
    "print('Current dataset :', dataset)\n",
    "\n",
    "data_path = join(path, dataset + '_dataset.json')\n",
    "queries_path = join(path, dataset + '_queries.json')\n",
    "groundtruth_path = join(path, dataset + '_groundtruth.json')"
   ]
  },
  {
   "cell_type": "code",
   "execution_count": 3,
   "metadata": {},
   "outputs": [
    {
     "name": "stdout",
     "output_type": "stream",
     "text": [
      "Data length : 1033\n",
      "Queries length : 30\n",
      "Ground truth length : 30\n"
     ]
    }
   ],
   "source": [
    "import json\n",
    "\n",
    "with open(data_path, 'r') as json_data:\n",
    "    data = json.load(json_data)\n",
    "print('Data length :', len(data['dataset']))\n",
    "\n",
    "with open(queries_path, 'r') as json_queries:\n",
    "    queries = json.load(json_queries)\n",
    "print('Queries length :', len(queries['queries']))\n",
    "\n",
    "with open(groundtruth_path, 'r') as json_groundtruth:\n",
    "    groundtruth = json.load(json_groundtruth)\n",
    "print('Ground truth length :', len(groundtruth['groundtruth']))"
   ]
  },
  {
   "cell_type": "markdown",
   "metadata": {},
   "source": [
    "## Linear Index\n",
    "\n",
    "### Construct"
   ]
  },
  {
   "cell_type": "code",
   "execution_count": 4,
   "metadata": {},
   "outputs": [
    {
     "name": "stdout",
     "output_type": "stream",
     "text": [
      "Constructed in 2.423 s\n"
     ]
    }
   ],
   "source": [
    "linear_index = ir_text.LinearIndex(data['dataset'], language = 'english')\n",
    "\n",
    "start = time()\n",
    "linear_index.construct()\n",
    "print(\"Constructed in\", round(time() - start, 3), 's')"
   ]
  },
  {
   "cell_type": "markdown",
   "metadata": {},
   "source": [
    "### Search - Dice coefficient"
   ]
  },
  {
   "cell_type": "code",
   "execution_count": 5,
   "metadata": {},
   "outputs": [
    {
     "name": "stdout",
     "output_type": "stream",
     "text": [
      "Searched for 30 queries in 0.804 seconds\n",
      "Average speed : 0.027 query/s\n"
     ]
    }
   ],
   "source": [
    "results_linear = {'groundtruth' : []}\n",
    "id_relevant = 1\n",
    "\n",
    "start = time()\n",
    "for query in queries['queries']: \n",
    "    # We'll only keep the 50 best results\n",
    "    results_linear['groundtruth'].append({'relevant' : [article_id for article_id, score in linear_index.search(query)][:50], 'id' : id_relevant})\n",
    "    id_relevant += 1\n",
    "stop = time()\n",
    "print('Searched for', len(results_linear['groundtruth']), 'queries in', round(stop - start, 3), 'seconds')\n",
    "print('Average speed :', round((stop - start) / len(results_linear['groundtruth']), 3), 'query/s')"
   ]
  },
  {
   "cell_type": "markdown",
   "metadata": {},
   "source": [
    "### Evaluation"
   ]
  },
  {
   "cell_type": "markdown",
   "metadata": {},
   "source": [
    "## Inverted Index\n",
    "\n",
    "### Construct"
   ]
  },
  {
   "cell_type": "code",
   "execution_count": 6,
   "metadata": {},
   "outputs": [
    {
     "name": "stderr",
     "output_type": "stream",
     "text": [
      "100%|██████████| 1033/1033 [00:02<00:00, 404.57it/s]\n",
      "100%|██████████| 1033/1033 [00:02<00:00, 365.27it/s]"
     ]
    },
    {
     "name": "stdout",
     "output_type": "stream",
     "text": [
      "Constructed in 2.836 s\n"
     ]
    },
    {
     "name": "stderr",
     "output_type": "stream",
     "text": [
      "\n"
     ]
    }
   ],
   "source": [
    "inverted_index = ir_text.InvertedIndex(data['dataset'], language = 'english')\n",
    "start = time()\n",
    "inverted_index.construct()\n",
    "print(\"Constructed in\", round(time() - start, 3), 's')"
   ]
  },
  {
   "cell_type": "markdown",
   "metadata": {},
   "source": [
    "### Search - Dice coefficient"
   ]
  },
  {
   "cell_type": "code",
   "execution_count": 7,
   "metadata": {},
   "outputs": [
    {
     "name": "stdout",
     "output_type": "stream",
     "text": [
      "Searched for 30 queries in 0.395 seconds\n",
      "Average speed : 0.013 query/s\n"
     ]
    }
   ],
   "source": [
    "results_inverted_dice = {'groundtruth' : []}\n",
    "id_relevant = 1\n",
    "\n",
    "start = time()\n",
    "for query in queries['queries']: \n",
    "    # We'll only keep the 50 best results\n",
    "    results_inverted_dice['groundtruth'].append({'relevant' : [article_id for article_id, score in inverted_index.search(query)][:50], 'id' : id_relevant})\n",
    "    id_relevant += 1\n",
    "stop = time()\n",
    "print('Searched for', len(results_inverted_dice['groundtruth']), 'queries in', round(stop - start, 3), 'seconds')\n",
    "print('Average speed :', round((stop - start) / len(results_inverted_dice['groundtruth']), 3), 'query/s')"
   ]
  },
  {
   "cell_type": "markdown",
   "metadata": {},
   "source": [
    "### Search - Term Frequency"
   ]
  },
  {
   "cell_type": "code",
   "execution_count": 8,
   "metadata": {},
   "outputs": [
    {
     "name": "stdout",
     "output_type": "stream",
     "text": [
      "Searched for 30 queries in 0.383 seconds\n",
      "Average speed : 0.013 query/s\n"
     ]
    }
   ],
   "source": [
    "results_inverted_tf = {'groundtruth' : []}\n",
    "id_relevant = 1\n",
    "\n",
    "start = time()\n",
    "for query in queries['queries']: \n",
    "    # We'll only keep the 50 best results\n",
    "    results_inverted_tf['groundtruth'].append({'relevant' : [article_id for article_id, score in inverted_index.search(query)][:50], 'id' : id_relevant})\n",
    "    id_relevant += 1\n",
    "stop = time()\n",
    "print('Searched for', len(results_inverted_tf['groundtruth']), 'queries in', round(stop - start, 3), 'seconds')\n",
    "print('Average speed :', round((stop - start) / len(results_inverted_tf['groundtruth']), 3), 'query/s')"
   ]
  },
  {
   "cell_type": "markdown",
   "metadata": {},
   "source": [
    "\n",
    "### Construct - Inverse Document Frequency"
   ]
  },
  {
   "cell_type": "code",
   "execution_count": 9,
   "metadata": {},
   "outputs": [
    {
     "name": "stderr",
     "output_type": "stream",
     "text": [
      "100%|██████████| 1033/1033 [00:02<00:00, 440.20it/s]\n",
      "100%|██████████| 1033/1033 [00:02<00:00, 392.97it/s]"
     ]
    },
    {
     "name": "stdout",
     "output_type": "stream",
     "text": [
      "Constructed in 2.636 s\n"
     ]
    },
    {
     "name": "stderr",
     "output_type": "stream",
     "text": [
      "\n"
     ]
    }
   ],
   "source": [
    "inverted_index_idf = ir_text.InvertedIndex(data['dataset'], language = 'english')\n",
    "\n",
    "start = time()\n",
    "inverted_index_idf.construct()\n",
    "print(\"Constructed in\", round(time() - start, 3), 's')"
   ]
  },
  {
   "cell_type": "markdown",
   "metadata": {},
   "source": [
    "### Search - TFIDF"
   ]
  },
  {
   "cell_type": "code",
   "execution_count": 10,
   "metadata": {},
   "outputs": [
    {
     "name": "stdout",
     "output_type": "stream",
     "text": [
      "Searched for 30 queries in 0.378 seconds\n",
      "Average speed : 0.013 query/s\n"
     ]
    }
   ],
   "source": [
    "results_inverted_tfidf = {'groundtruth' : []}\n",
    "id_relevant = 1\n",
    "\n",
    "start = time()\n",
    "for query in queries['queries']: \n",
    "    # We'll only keep the 50 best results\n",
    "    results_inverted_tfidf['groundtruth'].append({'relevant' : [article_id for article_id, score in inverted_index.search(query)][:50], 'id' : id_relevant})\n",
    "    id_relevant += 1\n",
    "stop = time()\n",
    "print('Searched for', len(results_inverted_tfidf['groundtruth']), 'queries in', round(stop - start, 3), 'seconds')\n",
    "print('Average speed :', round((stop - start) / len(results_inverted_tfidf['groundtruth']), 3), 'query/s')"
   ]
  },
  {
   "cell_type": "markdown",
   "metadata": {},
   "source": [
    "## Evaluation\n",
    "\n",
    "### Execution time\n",
    "Variable : ```results_linear```\n",
    "\n",
    "Index|Construction | Search|Total\n",
    "-----|-------------|-------------|-----\n",
    "Linear Index|1s | 2| 1\n",
    "Inverted Index - Dice|1s | 2| 1\n",
    "Inverted Index - TF|1s | 2| 1\n",
    "Inverted Index - TFIDF|1s | 2| 1\n",
    "\n",
    "### Inverted Index\n",
    "Variables : ```results_inverted_dice```, ```results_inverted_tf``` and ```results_inverted_tfidf```"
   ]
  }
 ],
 "metadata": {
  "kernelspec": {
   "display_name": "Python 3",
   "language": "python",
   "name": "python3"
  },
  "language_info": {
   "codemirror_mode": {
    "name": "ipython",
    "version": 3
   },
   "file_extension": ".py",
   "mimetype": "text/x-python",
   "name": "python",
   "nbconvert_exporter": "python",
   "pygments_lexer": "ipython3",
   "version": "3.7.5"
  }
 },
 "nbformat": 4,
 "nbformat_minor": 2
}
