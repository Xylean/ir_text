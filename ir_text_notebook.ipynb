{
 "cells": [
  {
   "cell_type": "code",
   "execution_count": 1,
   "metadata": {},
   "outputs": [],
   "source": [
    "import ir_text\n",
    "from time import time"
   ]
  },
  {
   "cell_type": "code",
   "execution_count": 2,
   "metadata": {},
   "outputs": [
    {
     "name": "stdout",
     "output_type": "stream",
     "text": [
      "Available datasets : ['cran', 'time', 'cisi', 'lisa', 'cacm', 'med']\n",
      "Current dataset : med\n"
     ]
    }
   ],
   "source": [
    "from os import listdir\n",
    "from os.path import join\n",
    "\n",
    "path = join('data', 'datasets')\n",
    "datasets = list(dict.fromkeys([file.split('_')[0] for file in listdir(path)]))\n",
    "\n",
    "dataset = datasets[5]\n",
    "print('Available datasets :', datasets)\n",
    "print('Current dataset :', dataset)\n",
    "\n",
    "data_path = join(path, dataset + '_dataset.json')\n",
    "queries_path = join(path, dataset + '_queries.json')\n",
    "groundtruth_path = join(path, dataset + '_groundtruth.json')"
   ]
  },
  {
   "cell_type": "code",
   "execution_count": 3,
   "metadata": {},
   "outputs": [
    {
     "name": "stdout",
     "output_type": "stream",
     "text": [
      "Data length : 1033\n",
      "Queries length : 30\n",
      "Ground truth length : 30\n"
     ]
    }
   ],
   "source": [
    "import json\n",
    "\n",
    "with open(data_path, 'r') as json_data:\n",
    "    data = json.load(json_data)\n",
    "print('Data length :', len(data['dataset']))\n",
    "\n",
    "with open(queries_path, 'r') as json_queries:\n",
    "    queries = json.load(json_queries)\n",
    "print('Queries length :', len(queries['queries']))\n",
    "\n",
    "with open(groundtruth_path, 'r') as json_groundtruth:\n",
    "    groundtruth = json.load(json_groundtruth)\n",
    "print('Ground truth length :', len(groundtruth['groundtruth']))"
   ]
  },
  {
   "cell_type": "markdown",
   "metadata": {},
   "source": [
    "## Linear Index\n",
    "\n",
    "### Construct"
   ]
  },
  {
   "cell_type": "code",
   "execution_count": 4,
   "metadata": {},
   "outputs": [
    {
     "name": "stdout",
     "output_type": "stream",
     "text": [
      "Constructed in 2.423 s\n"
     ]
    }
   ],
   "source": [
    "linear_index = ir_text.LinearIndex(data['dataset'], language = 'english')\n",
    "\n",
    "start = time()\n",
    "linear_index.construct()\n",
    "print(\"Constructed in\", round(time() - start, 3), 's')"
   ]
  },
  {
   "cell_type": "markdown",
   "metadata": {},
   "source": [
    "### Search - Dice coefficient"
   ]
  },
  {
   "cell_type": "code",
   "execution_count": 5,
   "metadata": {},
   "outputs": [
    {
     "name": "stdout",
     "output_type": "stream",
     "text": [
      "Searched for 30 queries in 0.804 seconds\n",
      "Average speed : 0.027 query/s\n"
     ]
    }
   ],
   "source": [
    "results_linear_dice = {'groundtruth' : []}\n",
    "id_relevant = 1\n",
    "\n",
    "start = time()\n",
    "for query in queries['queries']: \n",
    "    # We'll only keep the 50 best results\n",
    "    results_linear_dice['groundtruth'].append({'relevant' : [article_id for article_id, score in linear_index.search(query)][:50], 'id' : id_relevant})\n",
    "    id_relevant += 1\n",
    "stop = time()\n",
    "print('Searched for', len(results_linear_dice['groundtruth']), 'queries in', round(stop - start, 3), 'seconds')\n",
    "print('Average speed :', round((stop - start) / len(results_linear_dice['groundtruth']), 3), 'query/s')"
   ]
  },
  {
   "cell_type": "markdown",
   "metadata": {},
   "source": [
    "### Search - Term Frequency"
   ]
  },
  {
   "cell_type": "code",
   "execution_count": 12,
   "metadata": {},
   "outputs": [
    {
     "name": "stdout",
     "output_type": "stream",
     "text": [
      "Searched for 30 queries in 0.847 seconds\n",
      "Average speed : 0.028 query/s\n"
     ]
    }
   ],
   "source": [
    "results_linear_tf = {'groundtruth' : []}\n",
    "id_relevant = 1\n",
    "\n",
    "start = time()\n",
    "for query in queries['queries']: \n",
    "    # We'll only keep the 50 best results\n",
    "    results_linear_tf['groundtruth'].append({'relevant' : [article_id for article_id, score in linear_index.search(query)][:50], 'id' : id_relevant})\n",
    "    id_relevant += 1\n",
    "stop = time()\n",
    "print('Searched for', len(results_linear_tf['groundtruth']), 'queries in', round(stop - start, 3), 'seconds')\n",
    "print('Average speed :', round((stop - start) / len(results_linear_tf['groundtruth']), 3), 'query/s')"
   ]
  },
  {
   "cell_type": "markdown",
   "metadata": {},
   "source": [
    "### Evaluation"
   ]
  },
  {
   "cell_type": "markdown",
   "metadata": {},
   "source": [
    "## Inverted Index\n",
    "\n",
    "### Construct"
   ]
  },
  {
   "cell_type": "code",
   "execution_count": 6,
   "metadata": {},
   "outputs": [
    {
     "name": "stderr",
     "output_type": "stream",
     "text": [
      "100%|██████████| 1033/1033 [00:02<00:00, 404.57it/s]\n",
      "100%|██████████| 1033/1033 [00:02<00:00, 365.27it/s]"
     ]
    },
    {
     "name": "stdout",
     "output_type": "stream",
     "text": [
      "Constructed in 2.836 s\n"
     ]
    },
    {
     "name": "stderr",
     "output_type": "stream",
     "text": [
      "\n"
     ]
    }
   ],
   "source": [
    "inverted_index = ir_text.InvertedIndex(data['dataset'], language = 'english')\n",
    "start = time()\n",
    "inverted_index.construct()\n",
    "print(\"Constructed in\", round(time() - start, 3), 's')"
   ]
  },
  {
   "cell_type": "markdown",
   "metadata": {},
   "source": [
    "### Search - Dice coefficient"
   ]
  },
  {
   "cell_type": "code",
   "execution_count": 7,
   "metadata": {},
   "outputs": [
    {
     "name": "stdout",
     "output_type": "stream",
     "text": [
      "Searched for 30 queries in 0.395 seconds\n",
      "Average speed : 0.013 query/s\n"
     ]
    }
   ],
   "source": [
    "results_inverted_dice = {'groundtruth' : []}\n",
    "id_relevant = 1\n",
    "\n",
    "start = time()\n",
    "for query in queries['queries']: \n",
    "    # We'll only keep the 50 best results\n",
    "    results_inverted_dice['groundtruth'].append({'relevant' : [article_id for article_id, score in inverted_index.search(query)][:50], 'id' : id_relevant})\n",
    "    id_relevant += 1\n",
    "stop = time()\n",
    "print('Searched for', len(results_inverted_dice['groundtruth']), 'queries in', round(stop - start, 3), 'seconds')\n",
    "print('Average speed :', round((stop - start) / len(results_inverted_dice['groundtruth']), 3), 'query/s')"
   ]
  },
  {
   "cell_type": "markdown",
   "metadata": {},
   "source": [
    "### Search - Term Frequency"
   ]
  },
  {
   "cell_type": "code",
   "execution_count": 8,
   "metadata": {},
   "outputs": [
    {
     "name": "stdout",
     "output_type": "stream",
     "text": [
      "Searched for 30 queries in 0.383 seconds\n",
      "Average speed : 0.013 query/s\n"
     ]
    }
   ],
   "source": [
    "results_inverted_tf = {'groundtruth' : []}\n",
    "id_relevant = 1\n",
    "\n",
    "start = time()\n",
    "for query in queries['queries']: \n",
    "    # We'll only keep the 50 best results\n",
    "    results_inverted_tf['groundtruth'].append({'relevant' : [article_id for article_id, score in inverted_index.search(query)][:50], 'id' : id_relevant})\n",
    "    id_relevant += 1\n",
    "stop = time()\n",
    "print('Searched for', len(results_inverted_tf['groundtruth']), 'queries in', round(stop - start, 3), 'seconds')\n",
    "print('Average speed :', round((stop - start) / len(results_inverted_tf['groundtruth']), 3), 'query/s')"
   ]
  },
  {
   "cell_type": "markdown",
   "metadata": {},
   "source": [
    "\n",
    "### Construct - Inverse Document Frequency"
   ]
  },
  {
   "cell_type": "code",
   "execution_count": 13,
   "metadata": {},
   "outputs": [
    {
     "name": "stderr",
     "output_type": "stream",
     "text": [
      "100%|██████████| 1033/1033 [00:02<00:00, 436.33it/s]\n",
      "100%|██████████| 1033/1033 [00:02<00:00, 357.68it/s]"
     ]
    },
    {
     "name": "stdout",
     "output_type": "stream",
     "text": [
      "Constructed in 2.899 s\n"
     ]
    },
    {
     "name": "stderr",
     "output_type": "stream",
     "text": [
      "\n"
     ]
    }
   ],
   "source": [
    "inverted_index_idf = ir_text.InvertedIndex(data['dataset'], language = 'english')\n",
    "\n",
    "start = time()\n",
    "inverted_index_idf.construct()\n",
    "print(\"Constructed in\", round(time() - start, 3), 's')"
   ]
  },
  {
   "cell_type": "markdown",
   "metadata": {},
   "source": [
    "### Search - TFIDF"
   ]
  },
  {
   "cell_type": "code",
   "execution_count": 10,
   "metadata": {},
   "outputs": [
    {
     "name": "stdout",
     "output_type": "stream",
     "text": [
      "Searched for 30 queries in 0.378 seconds\n",
      "Average speed : 0.013 query/s\n"
     ]
    }
   ],
   "source": [
    "results_inverted_tfidf = {'groundtruth' : []}\n",
    "id_relevant = 1\n",
    "\n",
    "start = time()\n",
    "for query in queries['queries']: \n",
    "    # We'll only keep the 50 best results\n",
    "    results_inverted_tfidf['groundtruth'].append({'relevant' : [article_id for article_id, score in inverted_index.search(query)][:50], 'id' : id_relevant})\n",
    "    id_relevant += 1\n",
    "stop = time()\n",
    "print('Searched for', len(results_inverted_tfidf['groundtruth']), 'queries in', round(stop - start, 3), 'seconds')\n",
    "print('Average speed :', round((stop - start) / len(results_inverted_tfidf['groundtruth']), 3), 'query/s')"
   ]
  },
  {
   "cell_type": "markdown",
   "metadata": {},
   "source": [
    "# Evaluation\n",
    "\n",
    "## Execution time\n",
    "\n",
    "### Linear Index\n",
    "Variables : ```results_linear_dice``` and ```results_linear_tf```.\n",
    "\n",
    "Measure| Construction | Search | Total\n",
    "-------|--------------|--------|------\n",
    "Dice| 2.423| 0.804| 3.227\n",
    "TF| 2.423| 0.847| 3.270\n",
    "\n",
    "### Inverted Index\n",
    "Variables : ```results_inverted_dice```, ```results_inverted_tf``` and ```results_inverted_tfidf```.\n",
    "\n",
    "Measure| Construction | Search | Total\n",
    "-------|--------------|--------|------\n",
    "Dice| 2.836| 0.395| 3.231\n",
    "TF| 2.836| 0.383| 3.219\n",
    "TF-IDF| 2.899| 0.378| 3.277"
   ]
  },
  {
   "cell_type": "code",
   "execution_count": 11,
   "metadata": {},
   "outputs": [
    {
     "name": "stdout",
     "output_type": "stream",
     "text": [
      "{'relevant': [405, 177, 156, 59, 173, 234, 94, 523, 179, 175, 281, 178, 654, 525, 396, 406, 67, 93, 62, 207, 433, 911, 1012, 210, 397, 274, 38, 209, 141, 96, 642, 720, 55, 407, 402, 541, 230, 556, 171, 403, 18, 108, 176, 160, 69, 257, 526, 648, 285, 638], 'id': 4}\n"
     ]
    }
   ],
   "source": [
    "print(results_inverted_tfidf['groundtruth'][3])"
   ]
  },
  {
   "cell_type": "markdown",
   "metadata": {},
   "source": [
    "### Evaluation linear index"
   ]
  },
  {
   "cell_type": "code",
   "execution_count": 201,
   "metadata": {},
   "outputs": [],
   "source": [
    "import ir_text\n",
    "linear_evaluator = ir_text.evaluation.ir_evaluation.Evaluator(results_linear,groundtruth)"
   ]
  },
  {
   "cell_type": "markdown",
   "metadata": {},
   "source": [
    "### Evaluation pour une query donnée"
   ]
  },
  {
   "cell_type": "markdown",
   "metadata": {},
   "source": [
    "#### Courbe P%R "
   ]
  },
  {
   "cell_type": "code",
   "execution_count": 202,
   "metadata": {},
   "outputs": [
    {
     "data": {
      "image/png": "[encoded data removed]",
      "text/plain": [
       "<Figure size 432x288 with 1 Axes>"
      ]
     },
     "metadata": {
      "needs_background": "light"
     },
     "output_type": "display_data"
    }
   ],
   "source": [
    "import matplotlib\n",
    "import matplotlib.pyplot as plt\n",
    "import numpy as np\n",
    "query_id = 5\n",
    "# Data for plotting\n",
    "courbePR = linear_evaluator.evaluate_query_pr_points(query_id)\n",
    "r =[] \n",
    "p =[]\n",
    "for (recall, precision) in courbePR:\n",
    "    r.append(recall)\n",
    "    p.append(precision)\n",
    "fig, ax = plt.subplots()\n",
    "ax.plot(r, p)\n",
    "ax.set(xlabel='rappel', ylabel='precision',\n",
    "       title='P%R_1query_linearIndex ')\n",
    "ax.grid()\n",
    "plt.show()"
   ]
  },
  {
   "cell_type": "code",
   "execution_count": 220,
   "metadata": {},
   "outputs": [
    {
     "data": {
      "image/png": "[encoded data removed]",
      "text/plain": [
       "<Figure size 432x288 with 1 Axes>"
      ]
     },
     "metadata": {
      "needs_background": "light"
     },
     "output_type": "display_data"
    }
   ],
   "source": [
    "courbePR = linear_evaluator.evaluate_pr_points()\n",
    "r =[] \n",
    "p =[]\n",
    "for (recall, precision) in courbePR:\n",
    "    r.append(recall)\n",
    "    p.append(precision)\n",
    "fig, ax = plt.subplots()\n",
    "ax.plot(r, p)\n",
    "\n",
    "ax.set(xlabel='rappel', ylabel='precision',\n",
    "       title='P%R_average_linearIndex ')\n",
    "ax.grid()\n",
    "\n",
    "#fig.savefig(\"P%R_average.png\")\n",
    "plt.show()"
   ]
  },
  {
   "cell_type": "code",
   "execution_count": 208,
   "metadata": {
    "scrolled": true
   },
   "outputs": [
    {
     "name": "stdout",
     "output_type": "stream",
     "text": [
      "AP(index linéaire)pour la query 5 : 0.5455433657058841\n",
      "mAP(index linéaire) : 0.4074243839229491\n"
     ]
    }
   ],
   "source": [
    "print('AP(index linéaire)pour la query',query_id,\":\", linear_evaluator.evaluate_query_ap(query_id))\n",
    "print(\"mAP(index linéaire) :\",linear_evaluator.evaluate_map())\n"
   ]
  },
  {
   "cell_type": "markdown",
   "metadata": {},
   "source": [
    "### Inverted Index "
   ]
  },
  {
   "cell_type": "markdown",
   "metadata": {},
   "source": [
    "### En utilisant la recherche par Dice"
   ]
  },
  {
   "cell_type": "code",
   "execution_count": 214,
   "metadata": {},
   "outputs": [],
   "source": [
    "inverted_evaluator_dice = ir_text.evaluation.ir_evaluation.Evaluator(results_inverted_dice,groundtruth)"
   ]
  },
  {
   "cell_type": "markdown",
   "metadata": {},
   "source": [
    "#### Courbe P%R "
   ]
  },
  {
   "cell_type": "code",
   "execution_count": 215,
   "metadata": {},
   "outputs": [
    {
     "data": {
      "image/png": "[encoded data removed]",
      "text/plain": [
       "<Figure size 432x288 with 1 Axes>"
      ]
     },
     "metadata": {
      "needs_background": "light"
     },
     "output_type": "display_data"
    }
   ],
   "source": [
    "\n",
    "import matplotlib\n",
    "import matplotlib.pyplot as plt\n",
    "import numpy as np\n",
    "query_id = 5\n",
    "# Data for plotting\n",
    "courbePR = inverted_evaluator_dice.evaluate_query_pr_points(query_id)\n",
    "r =[] \n",
    "p =[]\n",
    "for (recall, precision) in courbePR:\n",
    "    r.append(recall)\n",
    "    p.append(precision)\n",
    "fig, ax = plt.subplots()\n",
    "ax.plot(r, p)\n",
    "\n",
    "ax.set(xlabel='rappel', ylabel='precision',\n",
    "       title='P%R_1query_InvertedIndex_Dice ')\n",
    "ax.grid()\n",
    "plt.show()"
   ]
  },
  {
   "cell_type": "code",
   "execution_count": 216,
   "metadata": {},
   "outputs": [
    {
     "data": {
      "image/png": "[encoded data removed]",
      "text/plain": [
       "<Figure size 432x288 with 1 Axes>"
      ]
     },
     "metadata": {
      "needs_background": "light"
     },
     "output_type": "display_data"
    }
   ],
   "source": [
    "courbePR = inverted_evaluator_dice.evaluate_pr_points()\n",
    "r =[] \n",
    "p =[]\n",
    "for (recall, precision) in courbePR:\n",
    "    r.append(recall)\n",
    "    p.append(precision)\n",
    "fig, ax = plt.subplots()\n",
    "ax.plot(r, p)\n",
    "\n",
    "ax.set(xlabel='rappel', ylabel='precision',\n",
    "       title='P%R_average_InvertedIndex ')\n",
    "ax.grid()\n",
    "\n",
    "plt.show()"
   ]
  },
  {
   "cell_type": "code",
   "execution_count": 228,
   "metadata": {},
   "outputs": [
    {
     "name": "stdout",
     "output_type": "stream",
     "text": [
      "AP(Inverted Index Dice)pour la query 5 : 0.6944351219513206\n",
      "mAP(Inverted Index Dice) : 0.4585752949254106\n"
     ]
    }
   ],
   "source": [
    "print('AP(Inverted Index Dice)pour la query',query_id,\":\", inverted_evaluator_dice.evaluate_query_ap(query_id))\n",
    "print(\"mAP(Inverted Index Dice) :\",inverted_evaluator_dice.evaluate_map())"
   ]
  },
  {
   "cell_type": "markdown",
   "metadata": {},
   "source": [
    "### En utilisant la recherche par TF"
   ]
  },
  {
   "cell_type": "code",
   "execution_count": 229,
   "metadata": {},
   "outputs": [],
   "source": [
    "inverted_evaluator_TF = ir_text.evaluation.ir_evaluation.Evaluator(results_inverted_tf,groundtruth)"
   ]
  },
  {
   "cell_type": "markdown",
   "metadata": {},
   "source": [
    "#### Courbe P%R "
   ]
  },
  {
   "cell_type": "code",
   "execution_count": 230,
   "metadata": {},
   "outputs": [
    {
     "data": {
      "image/png": "[encoded data removed]",
      "text/plain": [
       "<Figure size 432x288 with 1 Axes>"
      ]
     },
     "metadata": {
      "needs_background": "light"
     },
     "output_type": "display_data"
    }
   ],
   "source": [
    "\n",
    "import matplotlib\n",
    "import matplotlib.pyplot as plt\n",
    "import numpy as np\n",
    "query_id = 5\n",
    "# Data for plotting\n",
    "courbePR = inverted_evaluator_TF.evaluate_query_pr_points(query_id)\n",
    "r =[] \n",
    "p =[]\n",
    "for (recall, precision) in courbePR:\n",
    "    r.append(recall)\n",
    "    p.append(precision)\n",
    "fig, ax = plt.subplots()\n",
    "ax.plot(r, p)\n",
    "\n",
    "ax.set(xlabel='rappel', ylabel='precision',\n",
    "       title='P%R_1query_InvertedIndex_TF ')\n",
    "ax.grid()\n",
    "plt.show()"
   ]
  },
  {
   "cell_type": "code",
   "execution_count": 231,
   "metadata": {},
   "outputs": [
    {
     "data": {
      "image/png": "[encoded data removed]",
      "text/plain": [
       "<Figure size 432x288 with 1 Axes>"
      ]
     },
     "metadata": {
      "needs_background": "light"
     },
     "output_type": "display_data"
    }
   ],
   "source": [
    "courbePR = inverted_evaluator_TF.evaluate_pr_points()\n",
    "r =[] \n",
    "p =[]\n",
    "for (recall, precision) in courbePR:\n",
    "    r.append(recall)\n",
    "    p.append(precision)\n",
    "fig, ax = plt.subplots()\n",
    "ax.plot(r, p)\n",
    "\n",
    "ax.set(xlabel='rappel', ylabel='precision',\n",
    "       title='P%R_average_InvertedIndex_TF ')\n",
    "ax.grid()\n",
    "\n",
    "plt.show()"
   ]
  },
  {
   "cell_type": "code",
   "execution_count": 232,
   "metadata": {},
   "outputs": [
    {
     "name": "stdout",
     "output_type": "stream",
     "text": [
      "AP(Inverted Index TF)pour la query 5 : 0.6944351219513206\n",
      "mAP(Inverted Index TF) : 0.4585752949254106\n"
     ]
    }
   ],
   "source": [
    "print('AP(Inverted Index TF)pour la query',query_id,\":\", inverted_evaluator_TF.evaluate_query_ap(query_id))\n",
    "print(\"mAP(Inverted Index TF) :\",inverted_evaluator_TF.evaluate_map())"
   ]
  },
  {
   "cell_type": "markdown",
   "metadata": {},
   "source": [
    "### En utilisant la recherche par TF + IDF"
   ]
  },
  {
   "cell_type": "code",
   "execution_count": 239,
   "metadata": {},
   "outputs": [],
   "source": [
    "inverted_evaluator_TFIDF = ir_text.evaluation.ir_evaluation.Evaluator(results_inverted_tfidf,groundtruth)"
   ]
  },
  {
   "cell_type": "code",
   "execution_count": 240,
   "metadata": {},
   "outputs": [
    {
     "data": {
      "image/png": "[encoded data removed]",
      "text/plain": [
       "<Figure size 432x288 with 1 Axes>"
      ]
     },
     "metadata": {
      "needs_background": "light"
     },
     "output_type": "display_data"
    }
   ],
   "source": [
    "import matplotlib\n",
    "import matplotlib.pyplot as plt\n",
    "import numpy as np\n",
    "query_id = 5\n",
    "# Data for plotting\n",
    "courbePR = inverted_evaluator_TFIDF.evaluate_query_pr_points(query_id)\n",
    "r =[] \n",
    "p =[]\n",
    "for (recall, precision) in courbePR:\n",
    "    r.append(recall)\n",
    "    p.append(precision)\n",
    "fig, ax = plt.subplots()\n",
    "ax.plot(r, p)\n",
    "\n",
    "ax.set(xlabel='rappel', ylabel='precision',\n",
    "       title='P%R_1query_InvertedIndex_TF+IDF ')\n",
    "ax.grid()\n",
    "plt.show()"
   ]
  },
  {
   "cell_type": "code",
   "execution_count": 241,
   "metadata": {},
   "outputs": [
    {
     "data": {
      "image/png": "[encoded data removed]",
      "text/plain": [
       "<Figure size 432x288 with 1 Axes>"
      ]
     },
     "metadata": {
      "needs_background": "light"
     },
     "output_type": "display_data"
    }
   ],
   "source": [
    "courbePR = inverted_evaluator_TFIDF.evaluate_pr_points()\n",
    "r =[] \n",
    "p =[]\n",
    "for (recall, precision) in courbePR:\n",
    "    r.append(recall)\n",
    "    p.append(precision)\n",
    "fig, ax = plt.subplots()\n",
    "ax.plot(r, p)\n",
    "\n",
    "ax.set(xlabel='rappel', ylabel='precision',\n",
    "       title='P%R_average_InvertedIndex_TF+IDF ')\n",
    "ax.grid()\n",
    "\n",
    "plt.show()"
   ]
  },
  {
   "cell_type": "code",
   "execution_count": 242,
   "metadata": {},
   "outputs": [
    {
     "name": "stdout",
     "output_type": "stream",
     "text": [
      "AP(TF+IDF)pour la query 5 : 0.5103745002427975\n",
      "mAP(TF+IDF) : 0.5448714484540299\n"
     ]
    }
   ],
   "source": [
    "print('AP(TF+IDF)pour la query',query_id,\":\", inverted_evaluator_TF.evaluate_query_ap(query_id))\n",
    "print(\"mAP(TF+IDF) :\",inverted_evaluator_TF.evaluate_map())"
   ]
  }
 ],
 "metadata": {
  "kernelspec": {
   "display_name": "Python 3",
   "language": "python",
   "name": "python3"
  },
  "language_info": {
   "codemirror_mode": {
    "name": "ipython",
    "version": 3
   },
   "file_extension": ".py",
   "mimetype": "text/x-python",
   "name": "python",
   "nbconvert_exporter": "python",
   "pygments_lexer": "ipython3",
   "version": "3.7.5"
  }
 },
 "nbformat": 4,
 "nbformat_minor": 2
}
